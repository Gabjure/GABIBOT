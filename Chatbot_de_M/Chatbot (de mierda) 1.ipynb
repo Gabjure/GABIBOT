{
 "cells": [
  {
   "cell_type": "markdown",
   "metadata": {},
   "source": [
    "**Agenda**\n",
    "1. Libraries & Data\n",
    "2. Initializing Chatbot Training\n",
    "3. Building the Deep Learning Model\n",
    "4. Building Chatbot GUI\n",
    "5. Running Chatbot"
   ]
  },
  {
   "cell_type": "markdown",
   "metadata": {},
   "source": [
    "### Import Libraries"
   ]
  },
  {
   "cell_type": "code",
   "execution_count": 5,
   "metadata": {
    "ExecuteTime": {
     "end_time": "2020-05-20T15:18:07.774795Z",
     "start_time": "2020-05-20T15:18:07.763645Z"
    }
   },
   "outputs": [
    {
     "name": "stderr",
     "output_type": "stream",
     "text": [
      "[nltk_data] Downloading package punkt to /Users/gabii/nltk_data...\n",
      "[nltk_data]   Package punkt is already up-to-date!\n",
      "[nltk_data] Downloading package wordnet to /Users/gabii/nltk_data...\n",
      "[nltk_data]   Package wordnet is already up-to-date!\n"
     ]
    }
   ],
   "source": [
    "import nltk\n",
    "nltk.download('punkt')\n",
    "nltk.download('wordnet')\n",
    "from nltk.stem import WordNetLemmatizer\n",
    "lemmatizer = WordNetLemmatizer()\n",
    "import json\n",
    "import pickle\n",
    "\n",
    "import numpy as np\n",
    "from keras.models import Sequential\n",
    "from keras.layers import Dense, Activation, Dropout\n",
    "from keras.optimizers import SGD\n",
    "import random"
   ]
  },
  {
   "cell_type": "markdown",
   "metadata": {},
   "source": [
    "### Initializing Chatbot Training"
   ]
  },
  {
   "cell_type": "code",
   "execution_count": 6,
   "metadata": {
    "ExecuteTime": {
     "end_time": "2020-05-20T15:18:09.192366Z",
     "start_time": "2020-05-20T15:18:09.183231Z"
    }
   },
   "outputs": [],
   "source": [
    "words=[]\n",
    "classes = []\n",
    "documents = []\n",
    "ignore_words = ['?', '!']\n",
    "data_file = open('Simple-Python-Chatbot/intents.json').read()\n",
    "intents = json.loads(data_file)"
   ]
  },
  {
   "cell_type": "code",
   "execution_count": 7,
   "metadata": {
    "ExecuteTime": {
     "end_time": "2020-05-20T15:18:10.894425Z",
     "start_time": "2020-05-20T15:18:10.881803Z"
    }
   },
   "outputs": [
    {
     "name": "stdout",
     "output_type": "stream",
     "text": [
      "{\"intents\": [\n",
      "        {\"tag\": \"greeting\",\n",
      "         \"patterns\": [\"Hi there\", \"How are you\", \"Is anyone there?\",\"Hey\",\"Hola\", \"Hello\", \"Good day\"],\n",
      "         \"responses\": [\"Hello, thanks for asking\", \"Good to see you again\", \"Hi there, how can I help?\"],\n",
      "         \"context\": [\"\"]\n",
      "        },\n",
      "        {\"tag\": \"goodbye\",\n",
      "         \"patterns\": [\"Bye\", \"See you later\", \"Goodbye\", \"Nice chatting to you, bye\", \"Till next time\"],\n",
      "         \"responses\": [\"See you!\", \"Have a nice day\", \"Bye! Come back again soon.\"],\n",
      "         \"context\": [\"\"]\n",
      "        },\n",
      "        {\"tag\": \"thanks\",\n",
      "         \"patterns\": [\"Thanks\", \"Thank you\", \"That's helpful\", \"Awesome, thanks\", \"Thanks for helping me\"],\n",
      "         \"responses\": [\"Happy to help!\", \"Any time!\", \"My pleasure\"],\n",
      "         \"context\": [\"\"]\n",
      "        },\n",
      "        {\"tag\": \"noanswer\",\n",
      "         \"patterns\": [],\n",
      "         \"responses\": [\"Sorry, can't understand you\", \"Please give me more info\", \"Not sure I understand\"],\n",
      "         \"context\": [\"\"]\n",
      "        },\n",
      "        {\"tag\": \"options\",\n",
      "         \"patterns\": [\"How you could help me?\", \"What you can do?\", \"What help you provide?\", \"How you can be helpful?\", \"What support is offered\"],\n",
      "         \"responses\": [\"I can guide you through Adverse drug reaction list, Blood pressure tracking, Hospitals and Pharmacies\", \"Offering support for Adverse drug reaction, Blood pressure, Hospitals and Pharmacies\"],\n",
      "         \"context\": [\"\"]\n",
      "        },\n",
      "        {\"tag\": \"adverse_drug\",\n",
      "         \"patterns\": [\"How to check Adverse drug reaction?\", \"Open adverse drugs module\", \"Give me a list of drugs causing adverse behavior\", \"List all drugs suitable for patient with adverse reaction\", \"Which drugs dont have adverse reaction?\" ],\n",
      "         \"responses\": [\"Navigating to Adverse drug reaction module\"],\n",
      "         \"context\": [\"\"]\n",
      "        },\n",
      "        {\"tag\": \"blood_pressure\",\n",
      "         \"patterns\": [\"Open blood pressure module\", \"Task related to blood pressure\", \"Blood pressure data entry\", \"I want to log blood pressure results\", \"Blood pressure data management\" ],\n",
      "         \"responses\": [\"Navigating to Blood Pressure module\"],\n",
      "         \"context\": [\"\"]\n",
      "        },\n",
      "        {\"tag\": \"blood_pressure_search\",\n",
      "         \"patterns\": [\"I want to search for blood pressure result history\", \"Blood pressure for patient\", \"Load patient blood pressure result\", \"Show blood pressure results for patient\", \"Find blood pressure results by ID\" ],\n",
      "         \"responses\": [\"Please provide Patient ID\", \"Patient ID?\"],\n",
      "         \"context\": [\"search_blood_pressure_by_patient_id\"]\n",
      "        },\n",
      "        {\"tag\": \"search_blood_pressure_by_patient_id\",\n",
      "         \"patterns\": [],\n",
      "         \"responses\": [\"Loading Blood pressure result for Patient\"],\n",
      "         \"context\": [\"\"]\n",
      "        },\n",
      "        {\"tag\": \"pharmacy_search\",\n",
      "         \"patterns\": [\"Find me a pharmacy\", \"Find pharmacy\", \"List of pharmacies nearby\", \"Locate pharmacy\", \"Search pharmacy\" ],\n",
      "         \"responses\": [\"Please provide pharmacy name\"],\n",
      "         \"context\": [\"search_pharmacy_by_name\"]\n",
      "        },\n",
      "        {\"tag\": \"search_pharmacy_by_name\",\n",
      "         \"patterns\": [],\n",
      "         \"responses\": [\"Loading pharmacy details\"],\n",
      "         \"context\": [\"\"]\n",
      "        },\n",
      "        {\"tag\": \"hospital_search\",\n",
      "         \"patterns\": [\"Lookup for hospital\", \"Searching for hospital to transfer patient\", \"I want to search hospital data\", \"Hospital lookup for patient\", \"Looking up hospital details\" ],\n",
      "         \"responses\": [\"Please provide hospital name or location\"],\n",
      "         \"context\": [\"search_hospital_by_params\"]\n",
      "        },\n",
      "        {\"tag\": \"search_hospital_by_params\",\n",
      "         \"patterns\": [],\n",
      "         \"responses\": [\"Please provide hospital type\"],\n",
      "         \"context\": [\"search_hospital_by_type\"]\n",
      "        },\n",
      "        {\"tag\": \"search_hospital_by_type\",\n",
      "         \"patterns\": [],\n",
      "         \"responses\": [\"Loading hospital details\"],\n",
      "         \"context\": [\"\"]\n",
      "        }\n",
      "   ]\n",
      "}\n",
      "\n"
     ]
    }
   ],
   "source": [
    "print(data_file)"
   ]
  },
  {
   "cell_type": "markdown",
   "metadata": {},
   "source": [
    "We use the json module to load in the file and save it as the variable intents."
   ]
  },
  {
   "cell_type": "code",
   "execution_count": 3,
   "metadata": {
    "ExecuteTime": {
     "end_time": "2020-05-20T11:25:04.816776Z",
     "start_time": "2020-05-20T11:25:04.371724Z"
    }
   },
   "outputs": [],
   "source": [
    "for intent in intents['intents']:\n",
    "    for pattern in intent['patterns']:\n",
    "\n",
    "        # take each word and tokenize it\n",
    "        w = nltk.word_tokenize(pattern)\n",
    "        words.extend(w)\n",
    "        # adding documents\n",
    "        documents.append((w, intent['tag']))\n",
    "\n",
    "        # adding classes to our class list\n",
    "        if intent['tag'] not in classes:\n",
    "            classes.append(intent['tag'])"
   ]
  },
  {
   "cell_type": "markdown",
   "metadata": {},
   "source": [
    "If you look carefully at the json file, you can see that there are sub-objects within objects. For example, “patterns” is an attribute within “intents”. So we will use a nested for loop to extract all of the words within “patterns” and add them to our **words** list. We then add to our **documents** list each pair of patterns within their corresponding tag. We also add the tags into our **classes** list, and we use a simple conditional statement to prevent repeats"
   ]
  },
  {
   "cell_type": "code",
   "execution_count": 4,
   "metadata": {
    "ExecuteTime": {
     "end_time": "2020-05-20T11:26:03.734366Z",
     "start_time": "2020-05-20T11:25:04.878022Z"
    }
   },
   "outputs": [
    {
     "name": "stdout",
     "output_type": "stream",
     "text": [
      "47 documents\n",
      "9 classes ['adverse_drug', 'blood_pressure', 'blood_pressure_search', 'goodbye', 'greeting', 'hospital_search', 'options', 'pharmacy_search', 'thanks']\n",
      "88 unique lemmatized words [\"'s\", ',', 'a', 'adverse', 'all', 'anyone', 'are', 'awesome', 'be', 'behavior', 'blood', 'by', 'bye', 'can', 'causing', 'chatting', 'check', 'could', 'data', 'day', 'detail', 'do', 'dont', 'drug', 'entry', 'find', 'for', 'give', 'good', 'goodbye', 'have', 'hello', 'help', 'helpful', 'helping', 'hey', 'hi', 'history', 'hola', 'hospital', 'how', 'i', 'id', 'is', 'later', 'list', 'load', 'locate', 'log', 'looking', 'lookup', 'management', 'me', 'module', 'nearby', 'next', 'nice', 'of', 'offered', 'open', 'patient', 'pharmacy', 'pressure', 'provide', 'reaction', 'related', 'result', 'search', 'searching', 'see', 'show', 'suitable', 'support', 'task', 'thank', 'thanks', 'that', 'there', 'till', 'time', 'to', 'transfer', 'up', 'want', 'what', 'which', 'with', 'you']\n"
     ]
    }
   ],
   "source": [
    "words = [lemmatizer.lemmatize(w.lower()) for w in words if w not in ignore_words]\n",
    "words = sorted(list(set(words)))\n",
    "\n",
    "classes = sorted(list(set(classes)))\n",
    "\n",
    "print (len(documents), \"documents\")\n",
    "\n",
    "print (len(classes), \"classes\", classes)\n",
    "\n",
    "print (len(words), \"unique lemmatized words\", words)\n",
    "\n",
    "\n",
    "pickle.dump(words,open('words.pkl','wb'))\n",
    "pickle.dump(classes,open('classes.pkl','wb'))"
   ]
  },
  {
   "cell_type": "markdown",
   "metadata": {},
   "source": [
    "Next, we will take the **words** list and lemmatize and lowercase all the words inside. In case you don’t already know, **lemmatize** means to turn a word into its base meaning, or its **lemma**. For example, the words “walking”, “walked”, “walks” all have the same lemma, which is just “walk”. The purpose of lemmatizing our words is to narrow everything down to the simplest level it can be. It will save us a lot of time and unnecessary error when we actually process these words for machine learning. This is very similar to **stemming**, which is to reduce an inflected word down to its base or root form."
   ]
  },
  {
   "cell_type": "markdown",
   "metadata": {},
   "source": [
    "### Building the Deep Learning Model"
   ]
  },
  {
   "cell_type": "code",
   "execution_count": 5,
   "metadata": {
    "ExecuteTime": {
     "end_time": "2020-05-20T11:26:04.128195Z",
     "start_time": "2020-05-20T11:26:03.771039Z"
    }
   },
   "outputs": [
    {
     "name": "stdout",
     "output_type": "stream",
     "text": [
      "Training data created\n"
     ]
    }
   ],
   "source": [
    "# initializing training data\n",
    "training = []\n",
    "output_empty = [0] * len(classes)\n",
    "for doc in documents:\n",
    "    # initializing bag of words\n",
    "    bag = []\n",
    "    # list of tokenized words for the pattern\n",
    "    pattern_words = doc[0]\n",
    "    # lemmatize each word - create base word, in attempt to represent related words\n",
    "    pattern_words = [lemmatizer.lemmatize(word.lower()) for word in pattern_words]\n",
    "    # create our bag of words array with 1, if word match found in current pattern\n",
    "    for w in words:\n",
    "        bag.append(1) if w in pattern_words else bag.append(0)\n",
    "\n",
    "    # output is a '0' for each tag and '1' for current tag (for each pattern)\n",
    "    output_row = list(output_empty)\n",
    "    output_row[classes.index(doc[1])] = 1\n",
    "\n",
    "    training.append([bag, output_row])\n",
    "# shuffle our features and turn into np.array\n",
    "random.shuffle(training)\n",
    "training = np.array(training)\n",
    "# create train and test lists. X - patterns, Y - intents\n",
    "train_x = list(training[:,0])\n",
    "train_y = list(training[:,1])\n",
    "print(\"Training data created\")"
   ]
  },
  {
   "cell_type": "markdown",
   "metadata": {
    "ExecuteTime": {
     "end_time": "2020-05-17T20:27:51.784971Z",
     "start_time": "2020-05-17T20:27:51.762594Z"
    }
   },
   "source": [
    "Let’s initialize our training data with a variable training. We’re creating a giant nested list which contains bags of words for each of our documents. We have a feature called output_row which simply acts as a key for the list. We then shuffle our training set and do a train-test-split, with the patterns being the X variable and the intents being the Y variable."
   ]
  },
  {
   "cell_type": "code",
   "execution_count": 6,
   "metadata": {
    "ExecuteTime": {
     "end_time": "2020-05-20T11:26:53.949705Z",
     "start_time": "2020-05-20T11:26:04.155211Z"
    }
   },
   "outputs": [
    {
     "name": "stdout",
     "output_type": "stream",
     "text": [
      "WARNING:tensorflow:From /usr/local/lib/python3.7/site-packages/tensorflow/python/ops/resource_variable_ops.py:435: colocate_with (from tensorflow.python.framework.ops) is deprecated and will be removed in a future version.\n",
      "Instructions for updating:\n",
      "Colocations handled automatically by placer.\n",
      "WARNING:tensorflow:From /usr/local/lib/python3.7/site-packages/tensorflow/python/ops/math_ops.py:3066: to_int32 (from tensorflow.python.ops.math_ops) is deprecated and will be removed in a future version.\n",
      "Instructions for updating:\n",
      "Use tf.cast instead.\n",
      "Epoch 1/200\n",
      "47/47 [==============================] - 3s 56ms/step - loss: 2.2194 - accuracy: 0.1489\n",
      "Epoch 2/200\n",
      "47/47 [==============================] - 0s 3ms/step - loss: 2.1094 - accuracy: 0.1702\n",
      "Epoch 3/200\n",
      "47/47 [==============================] - 0s 2ms/step - loss: 2.0051 - accuracy: 0.2766\n",
      "Epoch 4/200\n",
      "47/47 [==============================] - 0s 5ms/step - loss: 1.9444 - accuracy: 0.3404\n",
      "Epoch 5/200\n",
      "47/47 [==============================] - 0s 3ms/step - loss: 1.7206 - accuracy: 0.6170\n",
      "Epoch 6/200\n",
      "47/47 [==============================] - 0s 4ms/step - loss: 1.5274 - accuracy: 0.6170\n",
      "Epoch 7/200\n",
      "47/47 [==============================] - 0s 3ms/step - loss: 1.4566 - accuracy: 0.6383\n",
      "Epoch 8/200\n",
      "47/47 [==============================] - 0s 3ms/step - loss: 1.3721 - accuracy: 0.6170\n",
      "Epoch 9/200\n",
      "47/47 [==============================] - 0s 4ms/step - loss: 1.1790 - accuracy: 0.6170\n",
      "Epoch 10/200\n",
      "47/47 [==============================] - 0s 3ms/step - loss: 1.0220 - accuracy: 0.7660\n",
      "Epoch 11/200\n",
      "47/47 [==============================] - 0s 3ms/step - loss: 1.0554 - accuracy: 0.6809\n",
      "Epoch 12/200\n",
      "47/47 [==============================] - 0s 2ms/step - loss: 0.9305 - accuracy: 0.7234\n",
      "Epoch 13/200\n",
      "47/47 [==============================] - 0s 4ms/step - loss: 0.7748 - accuracy: 0.7872\n",
      "Epoch 14/200\n",
      "47/47 [==============================] - 0s 2ms/step - loss: 0.7181 - accuracy: 0.8085\n",
      "Epoch 15/200\n",
      "47/47 [==============================] - 0s 4ms/step - loss: 0.7843 - accuracy: 0.7872\n",
      "Epoch 16/200\n",
      "47/47 [==============================] - 0s 2ms/step - loss: 0.5809 - accuracy: 0.8511\n",
      "Epoch 17/200\n",
      "47/47 [==============================] - 0s 4ms/step - loss: 0.6561 - accuracy: 0.8511\n",
      "Epoch 18/200\n",
      "47/47 [==============================] - 0s 2ms/step - loss: 0.5829 - accuracy: 0.8085\n",
      "Epoch 19/200\n",
      "47/47 [==============================] - 0s 3ms/step - loss: 0.4793 - accuracy: 0.8936\n",
      "Epoch 20/200\n",
      "47/47 [==============================] - 0s 2ms/step - loss: 0.4884 - accuracy: 0.8936\n",
      "Epoch 21/200\n",
      "47/47 [==============================] - 0s 2ms/step - loss: 0.4531 - accuracy: 0.8511\n",
      "Epoch 22/200\n",
      "47/47 [==============================] - 0s 2ms/step - loss: 0.4943 - accuracy: 0.8723\n",
      "Epoch 23/200\n",
      "47/47 [==============================] - 0s 2ms/step - loss: 0.3920 - accuracy: 0.8936\n",
      "Epoch 24/200\n",
      "47/47 [==============================] - 0s 3ms/step - loss: 0.3499 - accuracy: 0.9149\n",
      "Epoch 25/200\n",
      "47/47 [==============================] - 0s 2ms/step - loss: 0.2765 - accuracy: 0.9787\n",
      "Epoch 26/200\n",
      "47/47 [==============================] - 0s 2ms/step - loss: 0.3552 - accuracy: 0.8936\n",
      "Epoch 27/200\n",
      "47/47 [==============================] - 0s 2ms/step - loss: 0.3134 - accuracy: 0.8936\n",
      "Epoch 28/200\n",
      "47/47 [==============================] - 0s 2ms/step - loss: 0.1918 - accuracy: 0.9574\n",
      "Epoch 29/200\n",
      "47/47 [==============================] - 0s 2ms/step - loss: 0.2319 - accuracy: 0.9787\n",
      "Epoch 30/200\n",
      "47/47 [==============================] - 0s 4ms/step - loss: 0.1912 - accuracy: 0.9787\n",
      "Epoch 31/200\n",
      "47/47 [==============================] - 0s 2ms/step - loss: 0.2976 - accuracy: 0.8936\n",
      "Epoch 32/200\n",
      "47/47 [==============================] - 0s 3ms/step - loss: 0.2538 - accuracy: 0.9362\n",
      "Epoch 33/200\n",
      "47/47 [==============================] - 0s 2ms/step - loss: 0.2106 - accuracy: 0.9362\n",
      "Epoch 34/200\n",
      "47/47 [==============================] - 0s 4ms/step - loss: 0.2107 - accuracy: 0.9362: 0s - loss: 0.2859 - accuracy: \n",
      "Epoch 35/200\n",
      "47/47 [==============================] - 0s 3ms/step - loss: 0.1612 - accuracy: 0.9787: 0s - loss: 0.1984 - accuracy: 0.\n",
      "Epoch 36/200\n",
      "47/47 [==============================] - 0s 2ms/step - loss: 0.2414 - accuracy: 0.8936\n",
      "Epoch 37/200\n",
      "47/47 [==============================] - 0s 3ms/step - loss: 0.1963 - accuracy: 0.9362\n",
      "Epoch 38/200\n",
      "47/47 [==============================] - 0s 2ms/step - loss: 0.1089 - accuracy: 0.9787\n",
      "Epoch 39/200\n",
      "47/47 [==============================] - 0s 2ms/step - loss: 0.1374 - accuracy: 0.9787\n",
      "Epoch 40/200\n",
      "47/47 [==============================] - 0s 3ms/step - loss: 0.1315 - accuracy: 0.9787\n",
      "Epoch 41/200\n",
      "47/47 [==============================] - 0s 2ms/step - loss: 0.1540 - accuracy: 0.9787\n",
      "Epoch 42/200\n",
      "47/47 [==============================] - 0s 3ms/step - loss: 0.1205 - accuracy: 0.9787\n",
      "Epoch 43/200\n",
      "47/47 [==============================] - 0s 3ms/step - loss: 0.1287 - accuracy: 0.9574\n",
      "Epoch 44/200\n",
      "47/47 [==============================] - 0s 2ms/step - loss: 0.0755 - accuracy: 1.0000\n",
      "Epoch 45/200\n",
      "47/47 [==============================] - 0s 2ms/step - loss: 0.0792 - accuracy: 1.0000\n",
      "Epoch 46/200\n",
      "47/47 [==============================] - 0s 3ms/step - loss: 0.1829 - accuracy: 0.9362\n",
      "Epoch 47/200\n",
      "47/47 [==============================] - 0s 2ms/step - loss: 0.1122 - accuracy: 1.0000\n",
      "Epoch 48/200\n",
      "47/47 [==============================] - 0s 3ms/step - loss: 0.1087 - accuracy: 1.0000\n",
      "Epoch 49/200\n",
      "47/47 [==============================] - 0s 3ms/step - loss: 0.1445 - accuracy: 0.9362\n",
      "Epoch 50/200\n",
      "47/47 [==============================] - 0s 3ms/step - loss: 0.1247 - accuracy: 0.9787\n",
      "Epoch 51/200\n",
      "47/47 [==============================] - 0s 2ms/step - loss: 0.0669 - accuracy: 1.0000\n",
      "Epoch 52/200\n",
      "47/47 [==============================] - 0s 2ms/step - loss: 0.0921 - accuracy: 0.9787\n",
      "Epoch 53/200\n",
      "47/47 [==============================] - 0s 2ms/step - loss: 0.0578 - accuracy: 1.0000\n",
      "Epoch 54/200\n",
      "47/47 [==============================] - 0s 3ms/step - loss: 0.0580 - accuracy: 1.0000\n",
      "Epoch 55/200\n",
      "47/47 [==============================] - 0s 3ms/step - loss: 0.1158 - accuracy: 0.9787\n",
      "Epoch 56/200\n",
      "47/47 [==============================] - 0s 2ms/step - loss: 0.0726 - accuracy: 0.9787\n",
      "Epoch 57/200\n",
      "47/47 [==============================] - 0s 1ms/step - loss: 0.0542 - accuracy: 1.0000\n",
      "Epoch 58/200\n",
      "47/47 [==============================] - 0s 2ms/step - loss: 0.0753 - accuracy: 0.9787\n",
      "Epoch 59/200\n",
      "47/47 [==============================] - 0s 3ms/step - loss: 0.0389 - accuracy: 1.0000\n",
      "Epoch 60/200\n",
      "47/47 [==============================] - 0s 3ms/step - loss: 0.0408 - accuracy: 1.0000\n",
      "Epoch 61/200\n",
      "47/47 [==============================] - 0s 3ms/step - loss: 0.0593 - accuracy: 1.0000\n",
      "Epoch 62/200\n",
      "47/47 [==============================] - 0s 2ms/step - loss: 0.0588 - accuracy: 1.0000\n",
      "Epoch 63/200\n",
      "47/47 [==============================] - 0s 2ms/step - loss: 0.0641 - accuracy: 1.0000\n",
      "Epoch 64/200\n",
      "47/47 [==============================] - 0s 4ms/step - loss: 0.1356 - accuracy: 0.9574\n",
      "Epoch 65/200\n",
      "47/47 [==============================] - 0s 3ms/step - loss: 0.0668 - accuracy: 0.9787\n",
      "Epoch 66/200\n",
      "47/47 [==============================] - 0s 4ms/step - loss: 0.1173 - accuracy: 1.0000\n",
      "Epoch 67/200\n",
      "47/47 [==============================] - 0s 2ms/step - loss: 0.0429 - accuracy: 1.0000\n",
      "Epoch 68/200\n",
      "47/47 [==============================] - 0s 4ms/step - loss: 0.0696 - accuracy: 1.0000\n",
      "Epoch 69/200\n",
      "47/47 [==============================] - 0s 2ms/step - loss: 0.0535 - accuracy: 1.0000\n",
      "Epoch 70/200\n",
      "47/47 [==============================] - 0s 3ms/step - loss: 0.0836 - accuracy: 0.9787\n",
      "Epoch 71/200\n",
      "47/47 [==============================] - 0s 3ms/step - loss: 0.0608 - accuracy: 0.9787\n",
      "Epoch 72/200\n",
      "47/47 [==============================] - 0s 3ms/step - loss: 0.0273 - accuracy: 1.0000\n",
      "Epoch 73/200\n",
      "47/47 [==============================] - 0s 2ms/step - loss: 0.0558 - accuracy: 0.9787\n",
      "Epoch 74/200\n",
      "47/47 [==============================] - 0s 2ms/step - loss: 0.0907 - accuracy: 0.9787\n",
      "Epoch 75/200\n",
      "47/47 [==============================] - 0s 4ms/step - loss: 0.0627 - accuracy: 1.0000\n",
      "Epoch 76/200\n",
      "47/47 [==============================] - 0s 4ms/step - loss: 0.0866 - accuracy: 0.9787\n",
      "Epoch 77/200\n",
      "47/47 [==============================] - 0s 2ms/step - loss: 0.0378 - accuracy: 1.0000\n",
      "Epoch 78/200\n",
      "47/47 [==============================] - ETA: 0s - loss: 0.0644 - accuracy: 0.97 - 0s 4ms/step - loss: 0.0558 - accuracy: 0.9787\n",
      "Epoch 79/200\n",
      "47/47 [==============================] - 0s 2ms/step - loss: 0.0524 - accuracy: 1.0000: 0s - loss: 0.0514 - accuracy: 1.00\n",
      "Epoch 80/200\n",
      "47/47 [==============================] - 0s 5ms/step - loss: 0.0531 - accuracy: 1.0000\n",
      "Epoch 81/200\n",
      "47/47 [==============================] - 0s 2ms/step - loss: 0.0196 - accuracy: 1.0000\n",
      "Epoch 82/200\n",
      "47/47 [==============================] - 0s 3ms/step - loss: 0.0344 - accuracy: 1.0000\n",
      "Epoch 83/200\n",
      "47/47 [==============================] - 0s 2ms/step - loss: 0.0977 - accuracy: 0.9574\n",
      "Epoch 84/200\n",
      "47/47 [==============================] - 0s 2ms/step - loss: 0.0412 - accuracy: 1.0000\n",
      "Epoch 85/200\n",
      "47/47 [==============================] - 0s 5ms/step - loss: 0.0706 - accuracy: 0.9574\n",
      "Epoch 86/200\n",
      "47/47 [==============================] - ETA: 0s - loss: 0.0573 - accuracy: 1.0000   - 0s 2ms/step - loss: 0.0556 - accuracy: 1.0000\n",
      "Epoch 87/200\n",
      "47/47 [==============================] - 0s 2ms/step - loss: 0.0122 - accuracy: 1.0000\n",
      "Epoch 88/200\n",
      "47/47 [==============================] - 0s 4ms/step - loss: 0.0309 - accuracy: 1.0000\n",
      "Epoch 89/200\n",
      "47/47 [==============================] - 0s 2ms/step - loss: 0.0191 - accuracy: 1.0000\n",
      "Epoch 90/200\n",
      "47/47 [==============================] - 0s 2ms/step - loss: 0.0184 - accuracy: 1.0000\n",
      "Epoch 91/200\n",
      "47/47 [==============================] - 0s 3ms/step - loss: 0.0229 - accuracy: 1.0000\n",
      "Epoch 92/200\n",
      "47/47 [==============================] - 0s 4ms/step - loss: 0.0166 - accuracy: 1.0000: 0s - loss: 0.0187 - accuracy: 1.00\n",
      "Epoch 93/200\n",
      "47/47 [==============================] - 0s 2ms/step - loss: 0.0322 - accuracy: 1.0000\n",
      "Epoch 94/200\n",
      "47/47 [==============================] - 0s 4ms/step - loss: 0.0200 - accuracy: 1.0000\n",
      "Epoch 95/200\n",
      "40/47 [========================>.....] - ETA: 0s - loss: 0.0483 - accuracy: 1.0000"
     ]
    },
    {
     "name": "stderr",
     "output_type": "stream",
     "text": [
      "/usr/local/lib/python3.7/site-packages/keras/callbacks/callbacks.py:95: RuntimeWarning: Method (on_train_batch_end) is slow compared to the batch update (0.100889). Check your callbacks.\n",
      "  % (hook_name, delta_t_median), RuntimeWarning)\n"
     ]
    },
    {
     "name": "stdout",
     "output_type": "stream",
     "text": [
      "47/47 [==============================] - 0s 4ms/step - loss: 0.0426 - accuracy: 1.0000\n",
      "Epoch 96/200\n",
      "47/47 [==============================] - 0s 3ms/step - loss: 0.0920 - accuracy: 0.9574\n",
      "Epoch 97/200\n",
      "47/47 [==============================] - 0s 3ms/step - loss: 0.0759 - accuracy: 0.9787\n",
      "Epoch 98/200\n",
      "47/47 [==============================] - 0s 4ms/step - loss: 0.0135 - accuracy: 1.0000\n",
      "Epoch 99/200\n",
      "47/47 [==============================] - 0s 4ms/step - loss: 0.0187 - accuracy: 1.0000\n",
      "Epoch 100/200\n",
      "47/47 [==============================] - 0s 2ms/step - loss: 0.0202 - accuracy: 1.0000\n",
      "Epoch 101/200\n",
      "47/47 [==============================] - ETA: 0s - loss: 0.0532 - accuracy: 0.97 - 0s 2ms/step - loss: 0.0415 - accuracy: 0.9787\n",
      "Epoch 102/200\n",
      "47/47 [==============================] - 0s 2ms/step - loss: 0.0254 - accuracy: 1.0000\n",
      "Epoch 103/200\n",
      "47/47 [==============================] - 0s 3ms/step - loss: 0.0179 - accuracy: 1.0000\n",
      "Epoch 104/200\n",
      "47/47 [==============================] - 0s 5ms/step - loss: 0.0548 - accuracy: 1.0000\n",
      "Epoch 105/200\n",
      "47/47 [==============================] - 0s 2ms/step - loss: 0.0554 - accuracy: 1.0000\n",
      "Epoch 106/200\n",
      "47/47 [==============================] - 0s 4ms/step - loss: 0.0477 - accuracy: 1.0000\n",
      "Epoch 107/200\n",
      "47/47 [==============================] - 0s 4ms/step - loss: 0.0281 - accuracy: 1.0000\n",
      "Epoch 108/200\n",
      "47/47 [==============================] - 0s 2ms/step - loss: 0.0607 - accuracy: 0.9787\n",
      "Epoch 109/200\n",
      "47/47 [==============================] - 0s 4ms/step - loss: 0.0320 - accuracy: 1.0000\n",
      "Epoch 110/200\n",
      "47/47 [==============================] - 0s 3ms/step - loss: 0.0222 - accuracy: 1.0000\n",
      "Epoch 111/200\n",
      "47/47 [==============================] - 0s 5ms/step - loss: 0.0074 - accuracy: 1.0000\n",
      "Epoch 112/200\n",
      "47/47 [==============================] - 0s 5ms/step - loss: 0.0407 - accuracy: 0.9787\n",
      "Epoch 113/200\n",
      "47/47 [==============================] - ETA: 0s - loss: 0.0543 - accuracy: 0.97 - 0s 3ms/step - loss: 0.0509 - accuracy: 0.9787\n",
      "Epoch 114/200\n",
      "47/47 [==============================] - 0s 2ms/step - loss: 0.0377 - accuracy: 1.0000\n",
      "Epoch 115/200\n",
      "47/47 [==============================] - 0s 3ms/step - loss: 0.0486 - accuracy: 0.9787\n",
      "Epoch 116/200\n",
      "47/47 [==============================] - ETA: 0s - loss: 0.0167 - accuracy: 1.00 - 0s 4ms/step - loss: 0.0153 - accuracy: 1.0000\n",
      "Epoch 117/200\n",
      "47/47 [==============================] - 0s 3ms/step - loss: 0.0147 - accuracy: 1.0000\n",
      "Epoch 118/200\n",
      "47/47 [==============================] - 0s 3ms/step - loss: 0.0157 - accuracy: 1.0000\n",
      "Epoch 119/200\n",
      "47/47 [==============================] - 0s 4ms/step - loss: 0.0147 - accuracy: 1.0000\n",
      "Epoch 120/200\n",
      "47/47 [==============================] - 0s 5ms/step - loss: 0.0237 - accuracy: 1.0000 ETA: 0s - loss: 0.0247 - accuracy: 1.00\n",
      "Epoch 121/200\n",
      "47/47 [==============================] - 0s 4ms/step - loss: 0.0094 - accuracy: 1.0000\n",
      "Epoch 122/200\n",
      "47/47 [==============================] - 0s 2ms/step - loss: 0.0170 - accuracy: 1.0000\n",
      "Epoch 123/200\n",
      "47/47 [==============================] - 0s 3ms/step - loss: 0.0245 - accuracy: 1.0000\n",
      "Epoch 124/200\n",
      "47/47 [==============================] - 0s 3ms/step - loss: 0.0169 - accuracy: 1.0000\n",
      "Epoch 125/200\n",
      "47/47 [==============================] - 0s 2ms/step - loss: 0.0937 - accuracy: 0.9787\n",
      "Epoch 126/200\n",
      "47/47 [==============================] - 0s 5ms/step - loss: 0.1133 - accuracy: 0.9574\n",
      "Epoch 127/200\n",
      "47/47 [==============================] - 0s 4ms/step - loss: 0.0268 - accuracy: 1.0000\n",
      "Epoch 128/200\n",
      "47/47 [==============================] - 0s 2ms/step - loss: 0.0050 - accuracy: 1.0000\n",
      "Epoch 129/200\n",
      "47/47 [==============================] - 0s 5ms/step - loss: 0.0598 - accuracy: 0.9787\n",
      "Epoch 130/200\n",
      "47/47 [==============================] - 0s 4ms/step - loss: 0.0189 - accuracy: 1.0000: 0s - loss: 0.0379 - accuracy: 1.\n",
      "Epoch 131/200\n",
      "47/47 [==============================] - ETA: 0s - loss: 0.0203 - accuracy: 1.00 - 0s 4ms/step - loss: 0.0188 - accuracy: 1.0000\n",
      "Epoch 132/200\n",
      "47/47 [==============================] - 0s 2ms/step - loss: 0.0262 - accuracy: 1.0000\n",
      "Epoch 133/200\n",
      "47/47 [==============================] - 0s 4ms/step - loss: 0.0062 - accuracy: 1.0000\n",
      "Epoch 134/200\n",
      "47/47 [==============================] - 0s 2ms/step - loss: 0.0306 - accuracy: 1.0000\n",
      "Epoch 135/200\n",
      "47/47 [==============================] - 0s 5ms/step - loss: 0.0636 - accuracy: 1.0000\n",
      "Epoch 136/200\n",
      "47/47 [==============================] - 0s 3ms/step - loss: 0.0564 - accuracy: 0.9787\n",
      "Epoch 137/200\n",
      "47/47 [==============================] - 0s 7ms/step - loss: 0.0393 - accuracy: 1.0000\n",
      "Epoch 138/200\n",
      " 5/47 [==>...........................] - ETA: 0s - loss: 0.0027 - accuracy: 1.0000"
     ]
    },
    {
     "name": "stderr",
     "output_type": "stream",
     "text": [
      "/usr/local/lib/python3.7/site-packages/keras/callbacks/callbacks.py:95: RuntimeWarning: Method (on_train_batch_end) is slow compared to the batch update (0.170981). Check your callbacks.\n",
      "  % (hook_name, delta_t_median), RuntimeWarning)\n"
     ]
    },
    {
     "name": "stdout",
     "output_type": "stream",
     "text": [
      "47/47 [==============================] - 0s 4ms/step - loss: 0.0194 - accuracy: 1.0000\n",
      "Epoch 139/200\n",
      "47/47 [==============================] - 0s 4ms/step - loss: 0.0514 - accuracy: 0.9787\n",
      "Epoch 140/200\n",
      "47/47 [==============================] - 0s 2ms/step - loss: 0.1085 - accuracy: 0.9787\n",
      "Epoch 141/200\n",
      "47/47 [==============================] - 0s 4ms/step - loss: 0.0115 - accuracy: 1.0000\n",
      "Epoch 142/200\n",
      "47/47 [==============================] - 0s 4ms/step - loss: 0.0126 - accuracy: 1.0000\n",
      "Epoch 143/200\n",
      "47/47 [==============================] - 0s 3ms/step - loss: 0.0340 - accuracy: 1.0000\n",
      "Epoch 144/200\n",
      "47/47 [==============================] - 0s 2ms/step - loss: 0.0379 - accuracy: 0.9787\n",
      "Epoch 145/200\n",
      "47/47 [==============================] - 0s 5ms/step - loss: 0.0106 - accuracy: 1.0000\n",
      "Epoch 146/200\n",
      "47/47 [==============================] - 0s 4ms/step - loss: 0.0050 - accuracy: 1.0000 ETA: 0s - loss: 0.0031 - accuracy: 1.0000\n",
      "Epoch 147/200\n",
      "47/47 [==============================] - 0s 1ms/step - loss: 0.0412 - accuracy: 0.9787\n",
      "Epoch 148/200\n",
      "47/47 [==============================] - 0s 4ms/step - loss: 0.0120 - accuracy: 1.0000\n",
      "Epoch 149/200\n",
      "47/47 [==============================] - 0s 2ms/step - loss: 0.0406 - accuracy: 1.0000\n",
      "Epoch 150/200\n",
      "47/47 [==============================] - 0s 5ms/step - loss: 0.0117 - accuracy: 1.0000\n",
      "Epoch 151/200\n",
      "47/47 [==============================] - 0s 4ms/step - loss: 0.0140 - accuracy: 1.0000\n",
      "Epoch 152/200\n",
      "47/47 [==============================] - 0s 5ms/step - loss: 0.1035 - accuracy: 0.9787\n",
      "Epoch 153/200\n",
      "47/47 [==============================] - 0s 4ms/step - loss: 0.0038 - accuracy: 1.0000\n",
      "Epoch 154/200\n",
      "47/47 [==============================] - 0s 2ms/step - loss: 0.0280 - accuracy: 1.0000\n",
      "Epoch 155/200\n",
      "47/47 [==============================] - 0s 5ms/step - loss: 0.0092 - accuracy: 1.0000\n",
      "Epoch 156/200\n",
      "47/47 [==============================] - 0s 3ms/step - loss: 0.0418 - accuracy: 0.9787\n",
      "Epoch 157/200\n",
      "47/47 [==============================] - 0s 4ms/step - loss: 0.0437 - accuracy: 0.9787\n",
      "Epoch 158/200\n",
      "47/47 [==============================] - 0s 4ms/step - loss: 0.0175 - accuracy: 1.0000\n",
      "Epoch 159/200\n",
      "47/47 [==============================] - 0s 3ms/step - loss: 0.0171 - accuracy: 1.0000\n",
      "Epoch 160/200\n",
      "47/47 [==============================] - 0s 5ms/step - loss: 0.0186 - accuracy: 1.0000\n",
      "Epoch 161/200\n",
      "47/47 [==============================] - 0s 3ms/step - loss: 0.0162 - accuracy: 1.0000\n",
      "Epoch 162/200\n",
      "47/47 [==============================] - 0s 4ms/step - loss: 0.0364 - accuracy: 1.0000\n",
      "Epoch 163/200\n",
      "47/47 [==============================] - 0s 5ms/step - loss: 0.0104 - accuracy: 1.0000\n",
      "Epoch 164/200\n",
      "47/47 [==============================] - 0s 4ms/step - loss: 0.0218 - accuracy: 1.0000\n",
      "Epoch 165/200\n",
      "47/47 [==============================] - 0s 6ms/step - loss: 0.0207 - accuracy: 1.0000: 0s - loss: 0.0315 - accuracy: \n",
      "Epoch 166/200\n",
      "47/47 [==============================] - 0s 4ms/step - loss: 0.0250 - accuracy: 1.0000\n",
      "Epoch 167/200\n",
      "47/47 [==============================] - 0s 2ms/step - loss: 0.0189 - accuracy: 1.0000\n",
      "Epoch 168/200\n",
      "47/47 [==============================] - 0s 4ms/step - loss: 0.0248 - accuracy: 1.0000\n",
      "Epoch 169/200\n",
      "47/47 [==============================] - 0s 5ms/step - loss: 0.0216 - accuracy: 1.0000\n",
      "Epoch 170/200\n",
      "47/47 [==============================] - 0s 5ms/step - loss: 0.0435 - accuracy: 0.9787\n",
      "Epoch 171/200\n",
      "47/47 [==============================] - 0s 3ms/step - loss: 0.0247 - accuracy: 1.0000: 0s - loss: 0.0237 - accuracy: 1.\n",
      "Epoch 172/200\n",
      "47/47 [==============================] - 0s 2ms/step - loss: 0.0495 - accuracy: 1.0000\n",
      "Epoch 173/200\n",
      "47/47 [==============================] - 0s 5ms/step - loss: 0.0589 - accuracy: 0.9787\n",
      "Epoch 174/200\n",
      "47/47 [==============================] - 0s 5ms/step - loss: 0.0098 - accuracy: 1.0000\n",
      "Epoch 175/200\n",
      "47/47 [==============================] - 0s 5ms/step - loss: 0.0166 - accuracy: 1.0000\n",
      "Epoch 176/200\n",
      "47/47 [==============================] - 0s 4ms/step - loss: 0.0147 - accuracy: 1.0000\n",
      "Epoch 177/200\n",
      "47/47 [==============================] - 0s 2ms/step - loss: 0.0248 - accuracy: 0.9787\n",
      "Epoch 178/200\n",
      "47/47 [==============================] - 0s 5ms/step - loss: 0.0529 - accuracy: 1.0000\n",
      "Epoch 179/200\n",
      "47/47 [==============================] - 0s 4ms/step - loss: 0.0198 - accuracy: 1.0000\n",
      "Epoch 180/200\n",
      "47/47 [==============================] - 0s 3ms/step - loss: 0.0140 - accuracy: 1.0000\n",
      "Epoch 181/200\n",
      "47/47 [==============================] - 0s 6ms/step - loss: 0.0179 - accuracy: 1.0000 ETA: 0s - loss: 2.8896e-04 - accuracy\n",
      "Epoch 182/200\n",
      "47/47 [==============================] - 0s 2ms/step - loss: 0.0424 - accuracy: 0.9787\n",
      "Epoch 183/200\n",
      "47/47 [==============================] - 0s 4ms/step - loss: 0.0114 - accuracy: 1.0000\n",
      "Epoch 184/200\n",
      "47/47 [==============================] - 0s 4ms/step - loss: 0.0205 - accuracy: 1.0000\n",
      "Epoch 185/200\n",
      "47/47 [==============================] - 0s 5ms/step - loss: 0.0101 - accuracy: 1.0000\n",
      "Epoch 186/200\n",
      "47/47 [==============================] - 0s 2ms/step - loss: 0.0268 - accuracy: 1.0000\n",
      "Epoch 187/200\n",
      "47/47 [==============================] - 0s 4ms/step - loss: 0.0225 - accuracy: 0.9787\n",
      "Epoch 188/200\n",
      "47/47 [==============================] - 0s 3ms/step - loss: 0.0450 - accuracy: 1.0000\n",
      "Epoch 189/200\n",
      "47/47 [==============================] - 0s 5ms/step - loss: 0.0266 - accuracy: 1.0000\n",
      "Epoch 190/200\n",
      "47/47 [==============================] - 0s 2ms/step - loss: 0.0184 - accuracy: 1.0000\n",
      "Epoch 191/200\n",
      "47/47 [==============================] - 0s 3ms/step - loss: 0.0608 - accuracy: 0.9574\n",
      "Epoch 192/200\n",
      "47/47 [==============================] - 0s 4ms/step - loss: 0.0321 - accuracy: 0.9787\n",
      "Epoch 193/200\n",
      "47/47 [==============================] - 0s 2ms/step - loss: 0.0106 - accuracy: 1.0000\n",
      "Epoch 194/200\n",
      "47/47 [==============================] - 0s 4ms/step - loss: 0.0054 - accuracy: 1.0000\n",
      "Epoch 195/200\n",
      "47/47 [==============================] - 0s 2ms/step - loss: 0.0038 - accuracy: 1.0000\n",
      "Epoch 196/200\n",
      "47/47 [==============================] - 0s 4ms/step - loss: 0.0258 - accuracy: 0.9787\n",
      "Epoch 197/200\n",
      "47/47 [==============================] - 0s 4ms/step - loss: 0.0207 - accuracy: 1.0000\n",
      "Epoch 198/200\n",
      "47/47 [==============================] - 0s 3ms/step - loss: 0.0335 - accuracy: 1.0000\n",
      "Epoch 199/200\n",
      "47/47 [==============================] - 0s 3ms/step - loss: 0.0147 - accuracy: 1.0000\n",
      "Epoch 200/200\n",
      "47/47 [==============================] - 0s 4ms/step - loss: 0.0060 - accuracy: 1.0000\n",
      "model created\n"
     ]
    }
   ],
   "source": [
    "#Create model - 3 layers. First layer 128 neurons, second layer 64 neurons and 3rd output layer contains number of neurons\n",
    "# equal to number of intents to predict output intent with softmax\n",
    "model = Sequential()\n",
    "model.add(Dense(128, input_shape=(len(train_x[0]),), activation='relu'))\n",
    "model.add(Dropout(0.5))\n",
    "model.add(Dense(64, activation='relu'))\n",
    "model.add(Dropout(0.5))\n",
    "model.add(Dense(len(train_y[0]), activation='softmax'))\n",
    "\n",
    "# Compile model. Stochastic gradient descent with Nesterov accelerated gradient gives good results for this model\n",
    "sgd = SGD(lr=0.01, decay=1e-6, momentum=0.9, nesterov=True)\n",
    "model.compile(loss='categorical_crossentropy', optimizer=sgd, metrics=['accuracy'])\n",
    "\n",
    "#fitting and saving the model\n",
    "hist = model.fit(np.array(train_x), np.array(train_y), epochs=200, batch_size=5, verbose=1)\n",
    "model.save('chatbot_model.h5', hist)\n",
    "\n",
    "print(\"model created\")"
   ]
  },
  {
   "cell_type": "markdown",
   "metadata": {},
   "source": [
    "Now that we have our training and test data ready, we will now use a deep learning model from keras called Sequential. I don’t want to overwhelm you with all of the details about how deep learning models work, but if you are curious, check out the resources at the bottom of the article.\n",
    "The Sequential model in keras is actually one of the simplest neural networks, a multi-layer perceptron. If you don’t know what that is, I don’t blame you. Here’s the documentation in keras.\n",
    "This particular network has 3 layers, with the first one having 128 neurons, the second one having 64 neurons, and the third one having the number of intents as the number of neurons. Remember, the point of this network is to be able to predict which intent to choose given some data.\n",
    "The model will be trained with stochastic gradient descent, which is also a very complicated topic. Stochastic gradient descent is more efficient than normal gradient descent, that’s all you need to know.\n",
    "After the model is trained, the whole thing is turned into a numpy array and saved as chatbot_model.h5.\n",
    "We will use this model to form our chatbot interface!"
   ]
  },
  {
   "cell_type": "markdown",
   "metadata": {},
   "source": [
    "### Building Chatbot GUI"
   ]
  },
  {
   "cell_type": "code",
   "execution_count": 7,
   "metadata": {
    "ExecuteTime": {
     "end_time": "2020-05-20T11:27:12.534397Z",
     "start_time": "2020-05-20T11:26:53.997340Z"
    }
   },
   "outputs": [],
   "source": [
    "from keras.models import load_model\n",
    "model = load_model('chatbot_model.h5')\n",
    "import json\n",
    "import random\n",
    "intents = json.loads(open('Simple-Python-Chatbot/intents.json').read())\n",
    "words = pickle.load(open('words.pkl','rb'))\n",
    "classes = pickle.load(open('classes.pkl','rb'))"
   ]
  },
  {
   "cell_type": "markdown",
   "metadata": {},
   "source": [
    "Once again, we need to extract the information from our files."
   ]
  },
  {
   "cell_type": "code",
   "execution_count": 8,
   "metadata": {
    "ExecuteTime": {
     "end_time": "2020-05-20T11:27:12.645986Z",
     "start_time": "2020-05-20T11:27:12.557040Z"
    }
   },
   "outputs": [],
   "source": [
    "def clean_up_sentence(sentence):\n",
    "    sentence_words = nltk.word_tokenize(sentence)\n",
    "    sentence_words = [lemmatizer.lemmatize(word.lower()) for word in sentence_words]\n",
    "    return sentence_words\n",
    "\n",
    "# return bag of words array: 0 or 1 for each word in the bag that exists in the sentence\n",
    "\n",
    "def bow(sentence, words, show_details=True):\n",
    "    # tokenize the pattern\n",
    "    sentence_words = clean_up_sentence(sentence)\n",
    "    # bag of words - matrix of N words, vocabulary matrix\n",
    "    bag = [0]*len(words)\n",
    "    for s in sentence_words:\n",
    "        for i,w in enumerate(words):\n",
    "            if w == s:\n",
    "                # assign 1 if current word is in the vocabulary position\n",
    "                bag[i] = 1\n",
    "                if show_details:\n",
    "                    print (\"found in bag: %s\" % w)\n",
    "    return(np.array(bag))\n",
    "\n",
    "def predict_class(sentence, model):\n",
    "    # filter out predictions below a threshold\n",
    "    p = bow(sentence, words,show_details=False)\n",
    "    res = model.predict(np.array([p]))[0]\n",
    "    ERROR_THRESHOLD = 0.25\n",
    "    results = [[i,r] for i,r in enumerate(res) if r>ERROR_THRESHOLD]\n",
    "    # sort by strength of probability\n",
    "    results.sort(key=lambda x: x[1], reverse=True)\n",
    "    return_list = []\n",
    "    for r in results:\n",
    "        return_list.append({\"intent\": classes[r[0]], \"probability\": str(r[1])})\n",
    "    return return_list\n",
    "\n",
    "def getResponse(ints, intents_json):\n",
    "    tag = ints[0]['intent']\n",
    "    list_of_intents = intents_json['intents']\n",
    "    for i in list_of_intents:\n",
    "        if(i['tag']== tag):\n",
    "            result = random.choice(i['responses'])\n",
    "            break\n",
    "    return result\n",
    "\n",
    "def chatbot_response(msg):\n",
    "    ints = predict_class(msg, model)\n",
    "    res = getResponse(ints, intents)\n",
    "    return res"
   ]
  },
  {
   "cell_type": "markdown",
   "metadata": {},
   "source": [
    "Here are some functions that contain all of the necessary processes for running the GUI and encapsulates them into units. We have the clean_up_sentence() function which cleans up any sentences that are inputted. This function is used in the bow() function, which takes the sentences that are cleaned up and creates a bag of words that are used for predicting classes (which are based off the results we got from training our model earlier).\n",
    "\n",
    "In our predict_class() function, we use an error threshold of 0.25 to avoid too much overfitting. This function will output a list of intents and the probabilities, their likelihood of matching the correct intent. The function getResponse() takes the list outputted and checks the json file and outputs the most response with the highest probability.\n",
    "\n",
    "Finally our chatbot_response() takes in a message (which will be inputted through our chatbot GUI), predicts the class with our predict_class() function, puts the output list into getResponse(), then outputs the response. What we get is the foundation of our chatbot. We can now tell the bot something, and it will then respond back."
   ]
  },
  {
   "cell_type": "code",
   "execution_count": 9,
   "metadata": {
    "ExecuteTime": {
     "end_time": "2020-05-20T11:37:28.534342Z",
     "start_time": "2020-05-20T11:27:12.656496Z"
    }
   },
   "outputs": [],
   "source": [
    "#Creating GUI with tkinter\n",
    "import tkinter\n",
    "from tkinter import *\n",
    "\n",
    "\n",
    "def send():\n",
    "    msg = EntryBox.get(\"1.0\",'end-1c').strip()\n",
    "    EntryBox.delete(\"0.0\",END)\n",
    "\n",
    "    if msg != '':\n",
    "        ChatLog.config(state=NORMAL)\n",
    "        ChatLog.insert(END, \"You: \" + msg + '\\n\\n')\n",
    "        ChatLog.config(foreground=\"#442265\", font=(\"Verdana\", 12 ))\n",
    "\n",
    "        res = chatbot_response(msg)\n",
    "        ChatLog.insert(END, \"Bot: \" + res + '\\n\\n')\n",
    "\n",
    "        ChatLog.config(state=DISABLED)\n",
    "        ChatLog.yview(END)\n",
    "\n",
    "\n",
    "base = Tk()\n",
    "base.title(\"Hello\")\n",
    "base.geometry(\"400x500\")\n",
    "base.resizable(width=FALSE, height=FALSE)\n",
    "\n",
    "#Create Chat window\n",
    "ChatLog = Text(base, bd=0, bg=\"white\", height=\"8\", width=\"50\", font=\"Arial\",)\n",
    "\n",
    "ChatLog.config(state=DISABLED)\n",
    "\n",
    "#Bind scrollbar to Chat window\n",
    "scrollbar = Scrollbar(base, command=ChatLog.yview, cursor=\"heart\")\n",
    "ChatLog['yscrollcommand'] = scrollbar.set\n",
    "\n",
    "#Create Button to send message\n",
    "SendButton = Button(base, font=(\"Verdana\",12,'bold'), text=\"Send\", width=\"12\", height=5,\n",
    "                    bd=0, bg=\"#32de97\", activebackground=\"#3c9d9b\",fg='#ffffff',\n",
    "                    command= send )\n",
    "\n",
    "#Create the box to enter message\n",
    "EntryBox = Text(base, bd=0, bg=\"white\",width=\"29\", height=\"5\", font=\"Arial\")\n",
    "#EntryBox.bind(\"<Return>\", send)\n",
    "\n",
    "\n",
    "#Place all components on the screen\n",
    "scrollbar.place(x=376,y=6, height=386)\n",
    "ChatLog.place(x=6,y=6, height=386, width=370)\n",
    "EntryBox.place(x=128, y=401, height=90, width=265)\n",
    "SendButton.place(x=6, y=401, height=90)\n",
    "\n",
    "base.mainloop()"
   ]
  },
  {
   "cell_type": "markdown",
   "metadata": {},
   "source": [
    "Here comes the fun part (if the other parts weren’t fun already). We can create our GUI with tkinter, a Python library that allows us to create custom interfaces.\n",
    "We create a function called send() which sets up the basic functionality of our chatbot. If the message that we input into the chatbot is not an empty string, the bot will output a response based on our chatbot_response() function.\n",
    "After this, we build our chat window, our scrollbar, our button for sending messages, and our textbox to create our message. We place all the components on our screen with simple coordinates and heights."
   ]
  },
  {
   "cell_type": "markdown",
   "metadata": {},
   "source": [
    "### Areas of Improvement"
   ]
  },
  {
   "cell_type": "markdown",
   "metadata": {},
   "source": [
    "#### 1. Trying out different neural networks\n",
    "\n",
    "We used the simplest keras neural network, so there is a LOT of room for improvement. Feel free to try out convolutional networks or recurrent networks for your projects.\n",
    "\n",
    "#### 2. Using more data\n",
    "Our json file was extremely tiny in terms of the variety of possible intents and responses. Human language is billions of times more complex than this, so creating JARVIS from scratch will require a lot more.\n",
    "\n",
    "#### 3. Using different frameworks\n",
    "There are many more deep learning frameworks than just keras. There’s tensorflow, Apache Spark, PyTorch, Sonnet, and more. Don’t limit yourself to just one tool!"
   ]
  },
  {
   "cell_type": "markdown",
   "metadata": {},
   "source": [
    "**Resources**\n",
    "- Deep Learning\n",
    "- Natural Language Processing\n",
    "- Command Line\n",
    "- Neural Networks\n",
    "- Tkinter"
   ]
  },
  {
   "cell_type": "markdown",
   "metadata": {},
   "source": [
    "https://towardsdatascience.com/how-to-create-a-chatbot-with-python-deep-learning-in-less-than-an-hour-56a063bdfc44"
   ]
  }
 ],
 "metadata": {
  "kernelspec": {
   "display_name": "Python 3",
   "language": "python",
   "name": "python3"
  },
  "language_info": {
   "codemirror_mode": {
    "name": "ipython",
    "version": 3
   },
   "file_extension": ".py",
   "mimetype": "text/x-python",
   "name": "python",
   "nbconvert_exporter": "python",
   "pygments_lexer": "ipython3",
   "version": "3.7.6"
  }
 },
 "nbformat": 4,
 "nbformat_minor": 2
}
